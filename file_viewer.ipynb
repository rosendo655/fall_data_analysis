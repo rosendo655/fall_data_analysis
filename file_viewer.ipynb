{
 "cells": [
  {
   "cell_type": "markdown",
   "metadata": {},
   "source": [
    "# File viewer\n",
    "This notebook was created to explore all the CSV files in this project\n",
    "\n",
    "## Variables\n",
    "**above_avg_threshold:** this variable it's used on the secondary plot to highlight those cells which are greater than the mean in a certain frame by this threshold, so if the mean of a frame is 22 ℃ all the cells that are greater than (22 + **above_avg_threshold**) will be highligted in white from the rest, when this variable it's lowered it increases the sensitivity of the plot.\n",
    "    "
   ]
  },
  {
   "cell_type": "code",
   "execution_count": 1,
   "metadata": {},
   "outputs": [],
   "source": [
    "import pandas as pd\n",
    "import numpy as np\n",
    "import seaborn as sns\n",
    "from datetime import timedelta\n",
    "import matplotlib.pylab as plt\n",
    "import os\n",
    "import ipywidgets as widgets\n",
    "from ipywidgets import *\n",
    "\n",
    "#Constants\n",
    "fall_scene_tags_headers = ['filename','scene','event']\n",
    "\n",
    "csv_headers = ['timestamp','1','2','3','4','5','6','7','8','9','10','11','12','13','14','15','16']\n",
    "data_headers = ['1','2','3','4','5','6','7','8','9','10','11','12','13','14','15','16']\n",
    "fall_directory = './fall_data/'\n",
    "non_fall_directory = './non_fall_data/'\n",
    "\n",
    "#Variables\n",
    "above_avg_threshold = 0.6\n",
    "\n"
   ]
  },
  {
   "cell_type": "code",
   "execution_count": 2,
   "metadata": {},
   "outputs": [],
   "source": [
    "# Get a dataframe from a CSV file\n",
    "def get_dataframe(filename: str ) -> pd.DataFrame:\n",
    "    input_data = pd.read_csv(filename, sep=',' , names= csv_headers)\n",
    "    input_data['timestamp']= pd.to_datetime(input_data['timestamp'])\n",
    "    return input_data\n",
    "\n",
    "# Get the tags for the filenames\n",
    "def get_tags_dataframe():\n",
    "    input_data = pd.read_csv('fall_scene_tag.csv', sep=',' , names= fall_scene_tags_headers)\n",
    "    input_data = input_data.set_index('filename')\n",
    "    return input_data\n",
    "\n",
    "# Get the main info for a file\n",
    "def file_info(df : pd.DataFrame)->():\n",
    "    row_count = df.shape[0]\n",
    "    total_time = df['timestamp'].max() - df['timestamp'].min()\n",
    "    avg_delta = total_time / row_count\n",
    "    fps = timedelta(seconds = 1) /avg_delta\n",
    "    return row_count , total_time , avg_delta, fps\n",
    "    \n",
    "# plots a row of a dataframe\n",
    "def plt_map(data):\n",
    "    fig, axs = plt.subplots(1,2 ,figsize=(14, 5 ))\n",
    "    absolute = data.values.copy()\n",
    "    absolute.resize(4,4)\n",
    "    mn = absolute.mean();\n",
    "    \n",
    "    # Main Plot (absolute temperatures)\n",
    "    ax = sns.heatmap(absolute,linewidth=0, ax=axs[0], annot=True ,fmt='.1f')\n",
    "    ax.set_title('Absolute temperatures (℃)')\n",
    "    \n",
    "    # Over mean plot \n",
    "    ax = sns.heatmap(absolute - mn > above_avg_threshold, linewidth=0, ax = axs[1])\n",
    "    ax.set_title(f'Cells with temperature greater than {mn:0.2f} + '+ str(above_avg_threshold) +\" ℃\")\n",
    "    plt.show()"
   ]
  },
  {
   "cell_type": "code",
   "execution_count": 3,
   "metadata": {},
   "outputs": [],
   "source": [
    "# Load tags to identify the scene of the file and the event\n",
    "tags_df = get_tags_dataframe()"
   ]
  },
  {
   "cell_type": "code",
   "execution_count": 4,
   "metadata": {
    "scrolled": true
   },
   "outputs": [
    {
     "name": "stdout",
     "output_type": "stream",
     "text": [
      "FILE LOADED\n",
      "valid file:\t ./non_fall_data/nf_201.csv\n",
      "event:\t NOT FALL\n",
      "scene:\t FRONTAL WALKING PICKING SCENE\n",
      "rows:\t 112\n",
      "total time:\t 0 days 00:00:11.222000\n",
      "average delta:\t 0 days 00:00:00.100196428\n",
      "fps:\t 9.980395708318065\n"
     ]
    }
   ],
   "source": [
    "# SELECT DIRECTORY\n",
    "#cur_dir = fall_directory\n",
    "cur_dir = non_fall_directory\n",
    "\n",
    "# SELECT FILE\n",
    "#cur_file = 'f_8.csv'\n",
    "cur_file = 'nf_201.csv'\n",
    "\n",
    "cur_df = get_dataframe(cur_dir + cur_file)\n",
    "r_cnt , t_time , a_dta , fps = file_info(cur_df)\n",
    "\n",
    "evt = tags_df.loc[cur_file, 'event']\n",
    "scene = tags_df.loc[cur_file, 'scene']\n",
    "\n",
    "\n",
    "\n",
    "\n",
    "\n",
    "print('FILE LOADED')\n",
    "print('valid file:\\t', cur_dir + cur_file)\n",
    "print('event:\\t', evt.upper())\n",
    "print('scene:\\t', scene.upper())\n",
    "print('rows:\\t', r_cnt)\n",
    "print('total time:\\t' , str(t_time))\n",
    "print('average delta:\\t' , a_dta)\n",
    "print('fps:\\t', fps)"
   ]
  },
  {
   "cell_type": "code",
   "execution_count": 5,
   "metadata": {},
   "outputs": [
    {
     "data": {
      "application/vnd.jupyter.widget-view+json": {
       "model_id": "774cd68252fb4a3dad2a50d958da9619",
       "version_major": 2,
       "version_minor": 0
      },
      "text/plain": [
       "interactive(children=(IntSlider(value=0, description='frame: ', max=111), Output()), _dom_classes=('widget-int…"
      ]
     },
     "metadata": {},
     "output_type": "display_data"
    }
   ],
   "source": [
    "# Re-run this cell if you select a different file\n",
    "# Because the MAX property updates when you run this cell\n",
    "# if MAX property isn't updated you probably won't see all the file\n",
    "# or get an index out of bounds exception\n",
    "\n",
    "@interact(sl_number = IntSlider(min=0 , max = r_cnt -1 , description = 'frame: ' ))\n",
    "def explore_file(sl_number):\n",
    "    data = cur_df[data_headers].iloc[sl_number]\n",
    "    print('FRAME ', sl_number)\n",
    "    print(f'MEAN: {data.mean(): 0.3f}')\n",
    "    plt_map(data)"
   ]
  },
  {
   "cell_type": "code",
   "execution_count": null,
   "metadata": {},
   "outputs": [],
   "source": []
  }
 ],
 "metadata": {
  "kernelspec": {
   "display_name": "Python 3",
   "language": "python",
   "name": "python3"
  },
  "language_info": {
   "codemirror_mode": {
    "name": "ipython",
    "version": 3
   },
   "file_extension": ".py",
   "mimetype": "text/x-python",
   "name": "python",
   "nbconvert_exporter": "python",
   "pygments_lexer": "ipython3",
   "version": "3.8.5"
  }
 },
 "nbformat": 4,
 "nbformat_minor": 4
}
