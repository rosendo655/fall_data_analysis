{
 "cells": [
  {
   "cell_type": "code",
   "execution_count": null,
   "source": [
    "import pandas as pd\n",
    "import numpy as np\n",
    "import seaborn as sns\n",
    "from datetime import timedelta\n",
    "import matplotlib.pylab as plt\n",
    "import os\n",
    "import ipywidgets as widgets\n",
    "from ipywidgets import *\n",
    "\n",
    "#Constants\n",
    "csv_headers = ['timestamp','1','2','3','4','5','6','7','8','9','10','11','12','13','14','15','16']\n",
    "data_headers = ['1','2','3','4','5','6','7','8','9','10','11','12','13','14','15','16']\n",
    "fall_directory = './fall_data/'\n",
    "non_fall_directory = './non_fall_data/'\n",
    "\n",
    "#Variables\n",
    "above_avg_threshold = 0.3\n",
    "\n"
   ],
   "outputs": [],
   "metadata": {}
  },
  {
   "cell_type": "code",
   "execution_count": 255,
   "source": [
    "def get_dataframe(filename: str ) -> pd.DataFrame:\n",
    "    input_data = pd.read_csv(filename, sep=',' , names= csv_headers)\n",
    "    input_data['timestamp']= pd.to_datetime(input_data['timestamp'])\n",
    "    return input_data\n",
    "\n",
    "def file_info(df : pd.DataFrame)->():\n",
    "    row_count = df.shape[0]\n",
    "    total_time = df['timestamp'].max() - df['timestamp'].min()\n",
    "    avg_delta = total_time / row_count\n",
    "    fps = timedelta(seconds = 1) /avg_delta\n",
    "    return row_count , total_time , avg_delta, fps\n",
    "    \n",
    "\n",
    "def plt_map(data):\n",
    "    fig, axs = plt.subplots(1,2 ,figsize=(14, 5 ))\n",
    "    absolute = data.values.copy()\n",
    "    absolute.resize(4,4)\n",
    "    \n",
    "    mn = absolute.mean();\n",
    "    \n",
    "    \n",
    "    ax = sns.heatmap(absolute,linewidth=0, ax=axs[0], annot=True ,fmt='.1f')\n",
    "    ax.set_title('Absolute temperatures')\n",
    "    ax = sns.heatmap(absolute - mn > above_avg_threshold, linewidth=0, ax = axs[1])\n",
    "    ax.set_title(f'Cells with temperature greater than {mn:0.2f} + '+ str(above_avg_threshold) +\" ℃\")\n",
    "    plt.show()"
   ],
   "outputs": [],
   "metadata": {}
  },
  {
   "cell_type": "code",
   "execution_count": 256,
   "source": [
    "cur_dir = fall_directory\n",
    "cur_file = 'f_1.csv'\n",
    "cur_df = get_dataframe(cur_dir + cur_file)\n",
    "r_cnt , t_time , a_dta , fps = file_info(cur_df)\n",
    "\n",
    "print('FILE LOADED')\n",
    "print('valid file: ', cur_dir + cur_file)\n",
    "print('rows: ', r_cnt)\n",
    "print('total time: ' , str(t_time))\n",
    "print('average delta: ' , a_dta)\n",
    "print('fps: ', fps)"
   ],
   "outputs": [
    {
     "output_type": "stream",
     "name": "stdout",
     "text": [
      "FILE LOADED\n",
      "valid file:  ./fall_data/f_1.csv\n",
      "rows:  19\n",
      "total time:  0 days 00:00:01.824000\n",
      "average delta:  0 days 00:00:00.096000\n",
      "fps:  10.416666666666666\n"
     ]
    }
   ],
   "metadata": {}
  },
  {
   "cell_type": "code",
   "execution_count": 258,
   "source": [
    "#re-run this cell if you select a different file\n",
    "@interact(sl_number = IntSlider(min=0 , max = r_cnt -1 , description = 'frame: ' ))\n",
    "def explore_file(sl_number):\n",
    "    data = cur_df[data_headers].iloc[sl_number]\n",
    "    print('FRAME ', sl_number)\n",
    "    print(f'MEAN: {data.mean(): 0.3f}')\n",
    "    plt_map(data)"
   ],
   "outputs": [
    {
     "output_type": "display_data",
     "data": {
      "text/plain": [
       "interactive(children=(IntSlider(value=0, description='frame: ', max=18), Output()), _dom_classes=('widget-inte…"
      ],
      "application/vnd.jupyter.widget-view+json": {
       "model_id": "4fbfe5153c8a4ea09dd5cc642bae89e5",
       "version_major": 2,
       "version_minor": 0
      }
     },
     "metadata": {}
    }
   ],
   "metadata": {}
  },
  {
   "cell_type": "code",
   "execution_count": null,
   "source": [],
   "outputs": [],
   "metadata": {}
  }
 ],
 "metadata": {
  "kernelspec": {
   "display_name": "Python 3",
   "language": "python",
   "name": "python3"
  },
  "language_info": {
   "codemirror_mode": {
    "name": "ipython",
    "version": 3
   },
   "file_extension": ".py",
   "mimetype": "text/x-python",
   "name": "python",
   "nbconvert_exporter": "python",
   "pygments_lexer": "ipython3",
   "version": "3.8.5"
  }
 },
 "nbformat": 4,
 "nbformat_minor": 4
}