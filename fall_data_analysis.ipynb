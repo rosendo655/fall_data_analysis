{
 "cells": [
  {
   "cell_type": "markdown",
   "metadata": {},
   "source": [
    "# Fall data analysis\n",
    "This notebook contains the algorithm to analyze fall data from a sensor\n",
    "\n"
   ]
  },
  {
   "cell_type": "code",
   "execution_count": 1,
   "metadata": {},
   "outputs": [],
   "source": [
    "import pandas as pd\n",
    "import numpy as np\n",
    "import seaborn as sns\n",
    "from collections import Counter\n",
    "import matplotlib.pylab as plt\n",
    "import os\n",
    "from matplotlib.widgets import Slider, Button\n",
    "import ipywidgets as widgets\n",
    "from IPython.display import display\n",
    "from ipywidgets import *\n",
    "from sklearn import metrics\n",
    "\n",
    "# To display more rows if required\n",
    "pd.set_option(\"display.max_columns\", None)\n",
    "pd.set_option(\"display.max_rows\", None)\n",
    "\n",
    "#constants\n",
    "csv_headers = ['timestamp','1','2','3','4','5','6','7','8','9','10','11','12','13','14','15','16']\n",
    "data_headers = ['1','2','3','4','5','6','7','8','9','10','11','12','13','14','15','16']\n",
    "\n",
    "fall_scene_tags_headers = ['filename','scene','event']\n",
    "\n",
    "fall_directory = './fall_data/'\n",
    "non_fall_directory = './non_fall_data/'\n",
    "\n"
   ]
  },
  {
   "cell_type": "code",
   "execution_count": 2,
   "metadata": {},
   "outputs": [],
   "source": [
    "# Functions to read files\n",
    "\n",
    "# Get a dataframe from a csv\n",
    "def get_dataframe(filename):\n",
    "    input_data = pd.read_csv(filename, sep=',' , names= csv_headers)\n",
    "    return input_data\n",
    "\n",
    "# Get a dataframe containing all the filenames and its tag and event\n",
    "def get_file_tags(filename):\n",
    "    input_data = pd.read_csv(filename, sep=',' , names= fall_scene_tags_headers)\n",
    "    return input_data"
   ]
  },
  {
   "cell_type": "code",
   "execution_count": 3,
   "metadata": {},
   "outputs": [],
   "source": [
    "#functions to analize dataframe\n",
    "\n",
    "def prepare_df(df ,window_size, init_zones , fall_zones , reference_zone):\n",
    "    for cell in data_headers:\n",
    "        df[f'{cell}d'] = df[cell] - df[cell].shift(window_size)\n",
    "    \n",
    "    for cell in data_headers:\n",
    "        df[f'{cell}dt'] = 0\n",
    "        for ci in range(1, window_size + 1):\n",
    "            df[f'{cell}dt'] += df[cell] - df[cell].shift(ci)\n",
    "        df[f'{cell}dt'] /= window_size\n",
    "\n",
    "    iz = 0;\n",
    "    for zone in init_zones:\n",
    "        colname = f'iza{iz}'\n",
    "        df[colname] = df[zone].mean(axis=1)\n",
    "        iz = iz + 1\n",
    "    \n",
    "    iz = 0;\n",
    "    for zone in fall_zones:\n",
    "        colname = f'fza{iz}'\n",
    "        df[colname] = df[zone].mean(axis=1)\n",
    "        iz = iz + 1\n",
    "        \n",
    "    iz = 0;\n",
    "    for zone in init_zones:\n",
    "        colname = f'izda{iz}'\n",
    "        zone_d = [f'{z}d' for z in zone]\n",
    "        df[colname] = df[zone_d].mean(axis=1)\n",
    "        iz = iz + 1\n",
    "    \n",
    "    iz = 0;\n",
    "    for zone in fall_zones:\n",
    "        colname = f'fzda{iz}'\n",
    "        zone_d = [f'{z}d' for z in zone]\n",
    "        df[colname] = df[zone_d].mean(axis=1)\n",
    "        iz = iz + 1\n",
    "    \n",
    "    df['rza'] = df[reference_zone].mean(axis=1)\n",
    "    zone_d = [f'{z}d' for z in reference_zone]\n",
    "    df['rzda'] = df[zone_d].mean(axis=1)\n",
    "    \n",
    "    #for cell in data_headers:\n",
    "        #del df[f'{cell}d']\n",
    "\n",
    "def analize_df(df ,window_size , init_zones , fall_zones , reference_zone , heatTransferThreshold = 0.2, heatAverageThreshold = 1.0 ,deltaThreshold = 0.4, clean = False , remove_temps = False):\n",
    "    prepare_df(df, window_size , init_zones ,fall_zones , reference_zone )\n",
    "    i = 0\n",
    "    f = 0\n",
    "    any_col = []\n",
    "    for iz in init_zones:\n",
    "        f = 0\n",
    "        for fz in fall_zones:\n",
    "            newcolname = f'iz{i}xfz{f}'\n",
    "            iza , izda , fza , fzda , rza , rzda = df[f'iza{i}'] , df[f'izda{i}'],df[f'fza{f}'] , df[f'fzda{f}'] , df['rza'] , df['rzda'] \n",
    "            \n",
    "            test1 = (iza < (rza + heatAverageThreshold )) & ((rza + heatAverageThreshold ) < fza)\n",
    "            test2 = (izda <= -deltaThreshold ) & (deltaThreshold <= fzda)\n",
    "            \n",
    "            heatTransferPerc = izda / fzda\n",
    "            \n",
    "            test3 = heatTransferPerc < 0\n",
    "            \n",
    "            heatTransferPerc = heatTransferPerc.abs()\n",
    "            \n",
    "            test4 = ((1 - heatTransferThreshold) <= heatTransferPerc) & (heatTransferPerc <= (1 + heatTransferThreshold ))\n",
    "            \n",
    "            new_serie =  test1 & test2 & test3 & test4\n",
    "            any_col.append(new_serie)\n",
    "            df[newcolname] = new_serie\n",
    "            f = f + 1\n",
    "        i = i + 1\n",
    "    df['any'] = False\n",
    "    for serie in any_col:\n",
    "        df['any'] |= serie\n",
    "    \n",
    "    if clean:\n",
    "        i = 0\n",
    "        f = 0\n",
    "        for cell in data_headers:\n",
    "            del df[f'{cell}d']\n",
    "            del df[f'{cell}dt']\n",
    "        for iz in init_zones:\n",
    "            del df[f'iza{i}']\n",
    "            del df[f'izda{i}']\n",
    "            i = i + 1;\n",
    "        for fz in fall_zones:\n",
    "            del df[f'fza{f}']\n",
    "            del df[f'fzda{f}']\n",
    "            f = f + 1;\n",
    "        del df['rza']\n",
    "        del df['rzda']\n",
    "    \n",
    "    \n",
    "    return"
   ]
  },
  {
   "cell_type": "markdown",
   "metadata": {},
   "source": [
    "## Get list of files"
   ]
  },
  {
   "cell_type": "code",
   "execution_count": 4,
   "metadata": {},
   "outputs": [
    {
     "name": "stdout",
     "output_type": "stream",
     "text": [
      "fall files:  238\n",
      "non-fall files:  246\n"
     ]
    }
   ],
   "source": [
    "fall_files = os.listdir(fall_directory)\n",
    "non_fall_files = os.listdir(non_fall_directory)\n",
    "\n",
    "print( 'fall files: ' , len(fall_files))\n",
    "print( 'non-fall files: ' , len(non_fall_files))"
   ]
  },
  {
   "cell_type": "markdown",
   "metadata": {},
   "source": [
    "## Get filename tags"
   ]
  },
  {
   "cell_type": "code",
   "execution_count": 5,
   "metadata": {},
   "outputs": [],
   "source": [
    "overall_df = get_file_tags('fall_scene_tag.csv')\n",
    "overall_df = overall_df.set_index('filename')\n",
    "\n",
    "filecount = len(overall_df)"
   ]
  },
  {
   "cell_type": "markdown",
   "metadata": {},
   "source": [
    "## Algorithm parameters\n",
    "\n",
    "**Window_size:** this variable represents\n",
    "\n",
    "**HeatTransferThreshold:** this variable represents\n",
    "\n",
    "**HeatAverageThreshold:** this variable represents\n",
    "\n",
    "**DeltaThreshold:** this variable represents\n",
    "\n",
    "**Clean:** this variable represents\n",
    "\n",
    "**Remove_temps:** this variable represents"
   ]
  },
  {
   "cell_type": "code",
   "execution_count": 6,
   "metadata": {},
   "outputs": [],
   "source": [
    "#Algorithm parameters\n",
    "\n",
    "Window_size = 10\n",
    "HeatTransferThreshold = 0.3\n",
    "HeatAverageThreshold = 1.0\n",
    "DeltaThreshold = 0.35\n",
    "Clean = True\n",
    "Remove_temps = True\n",
    "\n",
    "scenes = [\n",
    "    #lateral fall #0\n",
    "    {\n",
    "        'name' : 'lateral scene detection',\n",
    "        'init_z' : [\n",
    "            ['1','5','9' ],\n",
    "            ['2','6','10'],\n",
    "            ['3','7','11'],\n",
    "            ['4','8','12']\n",
    "            ],\n",
    "\n",
    "        'fall_z' : [\n",
    "            ['13','14','15','16']\n",
    "            ],\n",
    "        'ref_z' : data_headers,\n",
    "    },\n",
    "    #frontal fall #1\n",
    "    {\n",
    "        'name': 'frontal scene detection',\n",
    "        'init_z' : [\n",
    "            ['6' , '10' ],\n",
    "            ['7' , '11' ],\n",
    "            ],\n",
    "\n",
    "        'fall_z' : [\n",
    "            ['14'],\n",
    "            ['15']\n",
    "            ],\n",
    "        'ref_z' : data_headers,\n",
    "    },\n",
    "    #diagonal fall right -> left   #2\n",
    "    {\n",
    "        'name':'diagonal scene detection',\n",
    "        'init_z' : [\n",
    "            ['3' , '6', '7', '8','11' ],\n",
    "            ],\n",
    "\n",
    "        'fall_z' : [\n",
    "            ['6', '9', '10','11' , '14'],\n",
    "            ],\n",
    "        'ref_z' : data_headers,\n",
    "    },\n",
    "    #diagonal fall left -> right   #3\n",
    "    {\n",
    "        'name':'diagonal2 scene detection',\n",
    "        'init_z' : [\n",
    "            ['5' , '6', '9', '10' ],\n",
    "            ],\n",
    "        'fall_z' : [\n",
    "            ['11' , '12' , '15' , '16'],\n",
    "            ],\n",
    "        'ref_z' : data_headers,\n",
    "                \n",
    "    },\n",
    "]"
   ]
  },
  {
   "cell_type": "code",
   "execution_count": 7,
   "metadata": {},
   "outputs": [],
   "source": [
    "fall_results = [] \n",
    "for fall_file in fall_files:\n",
    "    df = get_dataframe(fall_directory + fall_file)\n",
    "    res = {}\n",
    "    \n",
    "    for scene in scenes:\n",
    "        dfclone = pd.DataFrame(df)\n",
    "        analize_df(dfclone , Window_size , scene['init_z'] , scene['fall_z'] , scene['ref_z'], HeatTransferThreshold, HeatAverageThreshold,DeltaThreshold, Clean,Remove_temps)\n",
    "        #res[scene['name']] = dfclone['any'].any()\n",
    "        overall_df.loc[fall_file,scene['name']] = dfclone['any'].any() * 1\n",
    "    #fall_results.append(res)\n",
    "\n",
    "non_fall_results = [] \n",
    "for fall_file in non_fall_files:\n",
    "    df = get_dataframe(non_fall_directory + fall_file)\n",
    "    res = {}\n",
    "    \n",
    "    for scene in scenes:\n",
    "        dfclone = pd.DataFrame(df)\n",
    "        analize_df(dfclone , Window_size , scene['init_z'] , scene['fall_z'] , scene['ref_z'], HeatTransferThreshold, HeatAverageThreshold,DeltaThreshold, Clean,Remove_temps)\n",
    "        #res[scene['name']] = dfclone['any'].any()\n",
    "        overall_df.loc[fall_file,scene['name']] = dfclone['any'].any() * 1\n",
    "    #non_fall_results.append(res)"
   ]
  },
  {
   "cell_type": "code",
   "execution_count": 8,
   "metadata": {},
   "outputs": [],
   "source": [
    "overall_df['event'] = (overall_df['event'] == 'fall') * 1\n",
    "for scene in scenes:\n",
    "    overall_df[scene['name']] = overall_df[scene['name']].astype('int')"
   ]
  },
  {
   "cell_type": "markdown",
   "metadata": {},
   "source": [
    "## View File Tag and Event"
   ]
  },
  {
   "cell_type": "code",
   "execution_count": 9,
   "metadata": {},
   "outputs": [
    {
     "data": {
      "application/vnd.jupyter.widget-view+json": {
       "model_id": "e7e7bb0d0dd24afbb0b5c48af757df85",
       "version_major": 2,
       "version_minor": 0
      },
      "text/plain": [
       "interactive(children=(IntSlider(value=0, description='FILE', max=483), Output()), _dom_classes=('widget-intera…"
      ]
     },
     "metadata": {},
     "output_type": "display_data"
    }
   ],
   "source": [
    "@interact(is_file = IntSlider(min = 0 , max = filecount - 1, description='FILE'))\n",
    "def view_row(is_file):\n",
    "    return pd.DataFrame(overall_df.iloc[is_file])"
   ]
  },
  {
   "cell_type": "code",
   "execution_count": 10,
   "metadata": {},
   "outputs": [],
   "source": [
    "# https://scikit-learn.org/stable/auto_examples/miscellaneous/plot_display_object_visualization.html#sphx-glr-auto-examples-miscellaneous-plot-display-object-visualization-py\n",
    "\n",
    "from sklearn.datasets import fetch_openml\n",
    "from sklearn.preprocessing import StandardScaler\n",
    "from sklearn.pipeline import make_pipeline\n",
    "from sklearn.linear_model import LogisticRegression\n",
    "from sklearn.model_selection import train_test_split\n",
    "from sklearn.metrics import confusion_matrix\n",
    "from sklearn.metrics import ConfusionMatrixDisplay\n",
    "from sklearn.metrics import roc_curve\n",
    "from sklearn.metrics import RocCurveDisplay\n",
    "from sklearn.metrics import precision_recall_curve\n",
    "from sklearn.metrics import PrecisionRecallDisplay\n",
    "\n",
    "clf = make_pipeline(StandardScaler(), LogisticRegression(random_state=0))\n"
   ]
  },
  {
   "cell_type": "code",
   "execution_count": 16,
   "metadata": {
    "scrolled": false
   },
   "outputs": [
    {
     "data": {
      "application/vnd.jupyter.widget-view+json": {
       "model_id": "d4af42a777304906bc4808d96d55d6f9",
       "version_major": 2,
       "version_minor": 0
      },
      "text/plain": [
       "interactive(children=(Checkbox(value=False, description='normal fall scene'), Checkbox(value=False, descriptio…"
      ]
     },
     "metadata": {},
     "output_type": "display_data"
    }
   ],
   "source": [
    "@interact( \n",
    "    cb_nfs = Checkbox(description='normal fall scene'),\n",
    "    cb_ffs = Checkbox(description='frontal fall scene'),\n",
    "    cb_cfs1 = Checkbox(description='chair fall scene 1'),\n",
    "    cb_cfs2 = Checkbox(description='chair fall scene 2'),\n",
    "    cb_cfs3 = Checkbox(description='chair fall scene 3'),\n",
    "    cb_nefs = Checkbox(description='near fall scene'),\n",
    "    cb_dfs1 = Checkbox(description='diagonal fall scene 1'),\n",
    "    cb_dfs2 = Checkbox(description='diagonal fall scene 2'),\n",
    "    cb_ws = Checkbox(description='walking scene'),\n",
    "    cb_wps = Checkbox(description='walking picking scene'),\n",
    "    cb_wss = Checkbox(description='walking sitting scene'),\n",
    "    cb_fws = Checkbox(description='frontal walking scene'),\n",
    "    cb_fwps = Checkbox(description='frontal walking picking scene'),\n",
    "    cb_bs = Checkbox(description='bed scene'),\n",
    "    dd_scene = Dropdown(description= 'target scene',options = [sc['name'] for sc in scenes])\n",
    "    \n",
    ")\n",
    "def check(\n",
    "    cb_nfs,\n",
    "    cb_ffs,\n",
    "    cb_cfs1,\n",
    "    cb_cfs2,\n",
    "    cb_cfs3,\n",
    "    cb_nefs,\n",
    "    cb_dfs1,\n",
    "    cb_dfs2,\n",
    "    cb_ws,\n",
    "    cb_wps,\n",
    "    cb_wss,\n",
    "    cb_fws,\n",
    "    cb_fwps,\n",
    "    cb_bs,\n",
    "    dd_scene\n",
    "):\n",
    "    sel_scenes = []\n",
    "    if cb_nfs : sel_scenes.append('normal fall scene')\n",
    "    if cb_ffs : sel_scenes.append('frontal fall scene')\n",
    "    if cb_cfs1 : sel_scenes.append('chair fall scene 1')\n",
    "    if cb_cfs2 : sel_scenes.append('chair fall scene 2')\n",
    "    if cb_cfs3 : sel_scenes.append('chair fall scene 3')\n",
    "    if cb_nefs : sel_scenes.append('near fall scene')\n",
    "    if cb_dfs1 : sel_scenes.append('diagonal fall scene 1')\n",
    "    if cb_dfs2 : sel_scenes.append('diagonal fall scene 2')\n",
    "    if cb_ws : sel_scenes.append('walking scene')\n",
    "    if cb_wps : sel_scenes.append('walking picking scene')\n",
    "    if cb_wss : sel_scenes.append('walking sitting scene')\n",
    "    if cb_fws : sel_scenes.append('frontal walking scene')\n",
    "    if cb_fwps : sel_scenes.append('frontal walking picking scene')\n",
    "    if cb_bs : sel_scenes.append('bed scene')\n",
    "        \n",
    "    if len(sel_scenes) == 0 : return 'Select at least 1 scene'\n",
    "    \n",
    "    scene_filter = overall_df['scene'] == 0\n",
    "    \n",
    "    for ss in sel_scenes:\n",
    "        scene_filter |= overall_df['scene'] == ss\n",
    "    \n",
    "    target_rows = overall_df[scene_filter]\n",
    "    \n",
    "    \n",
    "    y_true = target_rows['event']\n",
    "    \n",
    "    # print(y_true)\n",
    "    \n",
    "    y_pred = target_rows[dd_scene]\n",
    "    \n",
    "    cm = confusion_matrix(y_true, y_pred)\n",
    "\n",
    "    cm_display = ConfusionMatrixDisplay(cm).plot()\n",
    "    \n",
    "    \n",
    "    fpr, tpr, _ = roc_curve(y_true, y_pred)\n",
    "    roc_display = RocCurveDisplay(fpr=fpr, tpr=tpr).plot()\n",
    "    \n",
    "    prec, recall, _ = precision_recall_curve(y_true, y_pred)\n",
    "    pr_display = PrecisionRecallDisplay(precision=prec, recall=recall).plot()"
   ]
  },
  {
   "cell_type": "code",
   "execution_count": null,
   "metadata": {},
   "outputs": [],
   "source": []
  }
 ],
 "metadata": {
  "kernelspec": {
   "display_name": "Python 3",
   "language": "python",
   "name": "python3"
  },
  "language_info": {
   "codemirror_mode": {
    "name": "ipython",
    "version": 3
   },
   "file_extension": ".py",
   "mimetype": "text/x-python",
   "name": "python",
   "nbconvert_exporter": "python",
   "pygments_lexer": "ipython3",
   "version": "3.8.5"
  }
 },
 "nbformat": 4,
 "nbformat_minor": 4
}
